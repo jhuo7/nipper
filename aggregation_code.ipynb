{
 "cells": [
  {
   "cell_type": "code",
   "execution_count": 1,
   "metadata": {
    "collapsed": true
   },
   "outputs": [],
   "source": [
    "import csv\n",
    "import pandas as pd"
   ]
  },
  {
   "cell_type": "markdown",
   "metadata": {},
   "source": [
    "I have a csv with field names \"zip\" and \"county_code\". I'm trying to find out all the county codes corresponding to each zip code. The output file should have \"zip\" as a string and \"county_code\" as a list of strings corresponding to the zip."
   ]
  },
  {
   "cell_type": "code",
   "execution_count": 53,
   "metadata": {
    "collapsed": true
   },
   "outputs": [],
   "source": [
    "path = ''\n",
    "pddata = pd.read_csv(path)"
   ]
  },
  {
   "cell_type": "code",
   "execution_count": 72,
   "metadata": {
    "collapsed": true
   },
   "outputs": [],
   "source": [
    "groupzip = pddata.groupby('zip').agg(lambda county_code: county_code.tolist() )"
   ]
  },
  {
   "cell_type": "code",
   "execution_count": 95,
   "metadata": {
    "collapsed": true
   },
   "outputs": [
    {
     "data": {
      "text/html": [
       "<div>\n",
       "<style>\n",
       "    .dataframe thead tr:only-child th {\n",
       "        text-align: right;\n",
       "    }\n",
       "\n",
       "    .dataframe thead th {\n",
       "        text-align: left;\n",
       "    }\n",
       "\n",
       "    .dataframe tbody tr th {\n",
       "        vertical-align: top;\n",
       "    }\n",
       "</style>\n",
       "<table border=\"1\" class=\"dataframe\">\n",
       "  <thead>\n",
       "    <tr style=\"text-align: right;\">\n",
       "      <th></th>\n",
       "      <th>number</th>\n",
       "      <th>county_name</th>\n",
       "      <th>county_code</th>\n",
       "      <th>State</th>\n",
       "    </tr>\n",
       "    <tr>\n",
       "      <th>zip</th>\n",
       "      <th></th>\n",
       "      <th></th>\n",
       "      <th></th>\n",
       "      <th></th>\n",
       "    </tr>\n",
       "  </thead>\n",
       "  <tbody>\n",
       "    <tr>\n",
       "      <th>670</th>\n",
       "      <td>[3, 3, 3]</td>\n",
       "      <td>[Camuy, Las Marias, Anasco]</td>\n",
       "      <td>[72027, 72083, 72011]</td>\n",
       "      <td>[PR, PR, PR]</td>\n",
       "    </tr>\n",
       "    <tr>\n",
       "      <th>694</th>\n",
       "      <td>[2, 2]</td>\n",
       "      <td>[Vega Alta, Vega Baja]</td>\n",
       "      <td>[72143, 72145]</td>\n",
       "      <td>[PR, PR]</td>\n",
       "    </tr>\n",
       "    <tr>\n",
       "      <th>745</th>\n",
       "      <td>[3, 3, 3]</td>\n",
       "      <td>[Humacao, Rio Grande, Canovanas]</td>\n",
       "      <td>[72069, 72119, 72029]</td>\n",
       "      <td>[PR, PR, PR]</td>\n",
       "    </tr>\n",
       "    <tr>\n",
       "      <th>785</th>\n",
       "      <td>[2, 2]</td>\n",
       "      <td>[Guayanilla, Guayama]</td>\n",
       "      <td>[72059, 72057]</td>\n",
       "      <td>[PR, PR]</td>\n",
       "    </tr>\n",
       "    <tr>\n",
       "      <th>976</th>\n",
       "      <td>[2, 2]</td>\n",
       "      <td>[San Juan, Trujillo Alto]</td>\n",
       "      <td>[72127, 72139]</td>\n",
       "      <td>[PR, PR]</td>\n",
       "    </tr>\n",
       "  </tbody>\n",
       "</table>\n",
       "</div>"
      ],
      "text/plain": [
       "        number                       county_name            county_code  \\\n",
       "zip                                                                       \n",
       "670  [3, 3, 3]       [Camuy, Las Marias, Anasco]  [72027, 72083, 72011]   \n",
       "694     [2, 2]            [Vega Alta, Vega Baja]         [72143, 72145]   \n",
       "745  [3, 3, 3]  [Humacao, Rio Grande, Canovanas]  [72069, 72119, 72029]   \n",
       "785     [2, 2]             [Guayanilla, Guayama]         [72059, 72057]   \n",
       "976     [2, 2]         [San Juan, Trujillo Alto]         [72127, 72139]   \n",
       "\n",
       "            State  \n",
       "zip                \n",
       "670  [PR, PR, PR]  \n",
       "694      [PR, PR]  \n",
       "745  [PR, PR, PR]  \n",
       "785      [PR, PR]  \n",
       "976      [PR, PR]  "
      ]
     },
     "execution_count": 95,
     "metadata": {},
     "output_type": "execute_result"
    }
   ],
   "source": [
    "groupzip.head()"
   ]
  },
  {
   "cell_type": "code",
   "execution_count": 83,
   "metadata": {
    "collapsed": true
   },
   "outputs": [],
   "source": [
    "results = groupzip.filter(['zip','county_code'],axis =1)"
   ]
  },
  {
   "cell_type": "code",
   "execution_count": 92,
   "metadata": {
    "collapsed": true
   },
   "outputs": [
    {
     "data": {
      "text/html": [
       "<div>\n",
       "<style>\n",
       "    .dataframe thead tr:only-child th {\n",
       "        text-align: right;\n",
       "    }\n",
       "\n",
       "    .dataframe thead th {\n",
       "        text-align: left;\n",
       "    }\n",
       "\n",
       "    .dataframe tbody tr th {\n",
       "        vertical-align: top;\n",
       "    }\n",
       "</style>\n",
       "<table border=\"1\" class=\"dataframe\">\n",
       "  <thead>\n",
       "    <tr style=\"text-align: right;\">\n",
       "      <th></th>\n",
       "      <th>county_code</th>\n",
       "    </tr>\n",
       "    <tr>\n",
       "      <th>zip</th>\n",
       "      <th></th>\n",
       "    </tr>\n",
       "  </thead>\n",
       "  <tbody>\n",
       "    <tr>\n",
       "      <th>670</th>\n",
       "      <td>[72027, 72083, 72011]</td>\n",
       "    </tr>\n",
       "    <tr>\n",
       "      <th>694</th>\n",
       "      <td>[72143, 72145]</td>\n",
       "    </tr>\n",
       "    <tr>\n",
       "      <th>745</th>\n",
       "      <td>[72069, 72119, 72029]</td>\n",
       "    </tr>\n",
       "    <tr>\n",
       "      <th>785</th>\n",
       "      <td>[72059, 72057]</td>\n",
       "    </tr>\n",
       "    <tr>\n",
       "      <th>976</th>\n",
       "      <td>[72127, 72139]</td>\n",
       "    </tr>\n",
       "    <tr>\n",
       "      <th>979</th>\n",
       "      <td>[72127, 72031]</td>\n",
       "    </tr>\n",
       "    <tr>\n",
       "      <th>1011</th>\n",
       "      <td>[25013, 25015, 25003]</td>\n",
       "    </tr>\n",
       "    <tr>\n",
       "      <th>1054</th>\n",
       "      <td>[25011, 25015]</td>\n",
       "    </tr>\n",
       "    <tr>\n",
       "      <th>1075</th>\n",
       "      <td>[25015, 25013]</td>\n",
       "    </tr>\n",
       "    <tr>\n",
       "      <th>1223</th>\n",
       "      <td>[25003, 25013]</td>\n",
       "    </tr>\n",
       "    <tr>\n",
       "      <th>1270</th>\n",
       "      <td>[25011, 25003]</td>\n",
       "    </tr>\n",
       "    <tr>\n",
       "      <th>1366</th>\n",
       "      <td>[25011, 25027]</td>\n",
       "    </tr>\n",
       "    <tr>\n",
       "      <th>1434</th>\n",
       "      <td>[25027, 25017]</td>\n",
       "    </tr>\n",
       "    <tr>\n",
       "      <th>2324</th>\n",
       "      <td>[25021, 25023]</td>\n",
       "    </tr>\n",
       "    <tr>\n",
       "      <th>2339</th>\n",
       "      <td>[25023, 25021]</td>\n",
       "    </tr>\n",
       "    <tr>\n",
       "      <th>2467</th>\n",
       "      <td>[25021, 25025, 25017]</td>\n",
       "    </tr>\n",
       "    <tr>\n",
       "      <th>2532</th>\n",
       "      <td>[25001, 25023]</td>\n",
       "    </tr>\n",
       "    <tr>\n",
       "      <th>2554</th>\n",
       "      <td>[25019, 25023]</td>\n",
       "    </tr>\n",
       "    <tr>\n",
       "      <th>2562</th>\n",
       "      <td>[25023, 25001]</td>\n",
       "    </tr>\n",
       "    <tr>\n",
       "      <th>2762</th>\n",
       "      <td>[25021, 25005]</td>\n",
       "    </tr>\n",
       "  </tbody>\n",
       "</table>\n",
       "</div>"
      ],
      "text/plain": [
       "                county_code\n",
       "zip                        \n",
       "670   [72027, 72083, 72011]\n",
       "694          [72143, 72145]\n",
       "745   [72069, 72119, 72029]\n",
       "785          [72059, 72057]\n",
       "976          [72127, 72139]\n",
       "979          [72127, 72031]\n",
       "1011  [25013, 25015, 25003]\n",
       "1054         [25011, 25015]\n",
       "1075         [25015, 25013]\n",
       "1223         [25003, 25013]\n",
       "1270         [25011, 25003]\n",
       "1366         [25011, 25027]\n",
       "1434         [25027, 25017]\n",
       "2324         [25021, 25023]\n",
       "2339         [25023, 25021]\n",
       "2467  [25021, 25025, 25017]\n",
       "2532         [25001, 25023]\n",
       "2554         [25019, 25023]\n",
       "2562         [25023, 25001]\n",
       "2762         [25021, 25005]"
      ]
     },
     "execution_count": 92,
     "metadata": {},
     "output_type": "execute_result"
    }
   ],
   "source": [
    "results.head(20)"
   ]
  },
  {
   "cell_type": "code",
   "execution_count": 91,
   "metadata": {
    "collapsed": true
   },
   "outputs": [],
   "source": [
    "results.to_csv('')"
   ]
  }
 ],
 "metadata": {
  "kernelspec": {
   "display_name": "Python 2",
   "language": "python",
   "name": "python2"
  },
  "language_info": {
   "codemirror_mode": {
    "name": "ipython",
    "version": 2
   },
   "file_extension": ".py",
   "mimetype": "text/x-python",
   "name": "python",
   "nbconvert_exporter": "python",
   "pygments_lexer": "ipython2",
   "version": "2.7.10"
  }
 },
 "nbformat": 4,
 "nbformat_minor": 2
}
